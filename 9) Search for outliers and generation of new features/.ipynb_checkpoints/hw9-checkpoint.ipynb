{
 "cells": [
  {
   "cell_type": "markdown",
   "metadata": {},
   "source": [
    "Импорт основных юиюлиотек и задание списка котегориальных признаков."
   ]
  },
  {
   "cell_type": "code",
   "execution_count": 1,
   "metadata": {},
   "outputs": [],
   "source": [
    "import matplotlib.pyplot as plt\n",
    "import pandas as pd\n",
    "import numpy as np\n",
    "%matplotlib inline\n",
    "\n",
    "first_cat = ['MSSubClass',\n",
    "'MSZoning',\n",
    "'Street',\n",
    "'Alley',\n",
    "'LotShape',\n",
    "'LandContour',\n",
    "'Utilities',\n",
    "'LotConfig',\n",
    "'LandSlope',\n",
    "'Neighborhood',\n",
    "'Condition1',\n",
    "'Condition2',\n",
    "'BldgType',\n",
    "'HouseStyle',\n",
    "'OverallQual',\n",
    "'OverallCond',\n",
    "'RoofStyle',\n",
    "'RoofMatl',\n",
    "'Exterior1st',\n",
    "'Exterior2nd',\n",
    "'MasVnrType',\n",
    "'ExterQual',\n",
    "'ExterCond',\n",
    "'Foundation',\n",
    "'BsmtQual',\n",
    "'BsmtCond',\n",
    "'BsmtExposure',\n",
    "'BsmtFinType1',\n",
    "'BsmtFinType2',\n",
    "'Heating',\n",
    "'HeatingQC',\n",
    "'CentralAir',\n",
    "'Electrical',\n",
    "'KitchenQual',\n",
    "'Functional',\n",
    "'FireplaceQu',\n",
    "'GarageType',\n",
    "'GarageFinish',\n",
    "'GarageQual',\n",
    "'GarageCond',\n",
    "'PavedDrive',\n",
    "'PoolQC',\n",
    "'Fence',\n",
    "'MiscFeature',\n",
    "'SaleType',\n",
    "'SaleCondition']"
   ]
  },
  {
   "cell_type": "markdown",
   "metadata": {},
   "source": [
    "Обработка данных. Включает в себя one hot encoding для категориальных признаков и нормализацию не категориальных. Все строки с не значащим NAN (такие Nan встречаются в целочисленных признаках и порядковых) выброщены из дальнейшего рассмотрения"
   ]
  },
  {
   "cell_type": "code",
   "execution_count": 2,
   "metadata": {
    "scrolled": true
   },
   "outputs": [
    {
     "name": "stderr",
     "output_type": "stream",
     "text": [
      "c:\\users\\ilkol\\appdata\\local\\programs\\python\\python37-32\\lib\\site-packages\\pandas\\core\\frame.py:4327: SettingWithCopyWarning: \n",
      "A value is trying to be set on a copy of a slice from a DataFrame\n",
      "\n",
      "See the caveats in the documentation: https://pandas.pydata.org/pandas-docs/stable/user_guide/indexing.html#returning-a-view-versus-a-copy\n",
      "  downcast=downcast,\n"
     ]
    }
   ],
   "source": [
    "data = pd.read_csv('train.csv')\n",
    "data = data.drop(['Id',], axis = 1)\n",
    "categ = data[first_cat]\n",
    "categ.fillna('NA', inplace=True)\n",
    "categ = pd.get_dummies(categ, columns = first_cat)\n",
    "data = data.drop(first_cat, axis = 1)\n",
    "data = pd.concat([data, categ], axis=1)\n",
    "data = data.dropna()\n",
    "categ = data[categ.columns]\n",
    "data = data.drop(categ.columns, axis = 1)\n",
    "y = data['SalePrice']\n",
    "data = data.drop(['SalePrice'], axis = 1)\n",
    "\n",
    "from sklearn.preprocessing import StandardScaler\n",
    "sc = StandardScaler()\n",
    "data_scaled = pd.DataFrame(sc.fit_transform(data))\n",
    "data_scaled\n",
    "\n",
    "categ = categ.reset_index(drop = True)\n",
    "X = pd.concat([data_scaled, categ], axis=1)\n",
    "y = y.reset_index(drop = True)"
   ]
  },
  {
   "cell_type": "code",
   "execution_count": 3,
   "metadata": {
    "scrolled": true
   },
   "outputs": [
    {
     "data": {
      "text/html": [
       "<div>\n",
       "<style scoped>\n",
       "    .dataframe tbody tr th:only-of-type {\n",
       "        vertical-align: middle;\n",
       "    }\n",
       "\n",
       "    .dataframe tbody tr th {\n",
       "        vertical-align: top;\n",
       "    }\n",
       "\n",
       "    .dataframe thead th {\n",
       "        text-align: right;\n",
       "    }\n",
       "</style>\n",
       "<table border=\"1\" class=\"dataframe\">\n",
       "  <thead>\n",
       "    <tr style=\"text-align: right;\">\n",
       "      <th></th>\n",
       "      <th>0</th>\n",
       "      <th>1</th>\n",
       "      <th>2</th>\n",
       "      <th>3</th>\n",
       "      <th>4</th>\n",
       "      <th>5</th>\n",
       "      <th>6</th>\n",
       "      <th>7</th>\n",
       "      <th>8</th>\n",
       "      <th>9</th>\n",
       "      <th>...</th>\n",
       "      <th>SaleType_ConLw</th>\n",
       "      <th>SaleType_New</th>\n",
       "      <th>SaleType_Oth</th>\n",
       "      <th>SaleType_WD</th>\n",
       "      <th>SaleCondition_Abnorml</th>\n",
       "      <th>SaleCondition_AdjLand</th>\n",
       "      <th>SaleCondition_Alloca</th>\n",
       "      <th>SaleCondition_Family</th>\n",
       "      <th>SaleCondition_Normal</th>\n",
       "      <th>SaleCondition_Partial</th>\n",
       "    </tr>\n",
       "  </thead>\n",
       "  <tbody>\n",
       "    <tr>\n",
       "      <th>0</th>\n",
       "      <td>-0.233570</td>\n",
       "      <td>-0.205885</td>\n",
       "      <td>0.992930</td>\n",
       "      <td>0.823953</td>\n",
       "      <td>0.462009</td>\n",
       "      <td>0.571581</td>\n",
       "      <td>-0.282645</td>\n",
       "      <td>-0.986817</td>\n",
       "      <td>-0.496377</td>\n",
       "      <td>-0.822753</td>\n",
       "      <td>...</td>\n",
       "      <td>0</td>\n",
       "      <td>0</td>\n",
       "      <td>0</td>\n",
       "      <td>1</td>\n",
       "      <td>0</td>\n",
       "      <td>0</td>\n",
       "      <td>0</td>\n",
       "      <td>0</td>\n",
       "      <td>1</td>\n",
       "      <td>0</td>\n",
       "    </tr>\n",
       "    <tr>\n",
       "      <th>1</th>\n",
       "      <td>0.384834</td>\n",
       "      <td>-0.064358</td>\n",
       "      <td>0.120665</td>\n",
       "      <td>-0.460746</td>\n",
       "      <td>-0.572748</td>\n",
       "      <td>1.152559</td>\n",
       "      <td>-0.282645</td>\n",
       "      <td>-0.689078</td>\n",
       "      <td>0.415045</td>\n",
       "      <td>0.229055</td>\n",
       "      <td>...</td>\n",
       "      <td>0</td>\n",
       "      <td>0</td>\n",
       "      <td>0</td>\n",
       "      <td>1</td>\n",
       "      <td>0</td>\n",
       "      <td>0</td>\n",
       "      <td>0</td>\n",
       "      <td>0</td>\n",
       "      <td>1</td>\n",
       "      <td>0</td>\n",
       "    </tr>\n",
       "    <tr>\n",
       "      <th>2</th>\n",
       "      <td>-0.109889</td>\n",
       "      <td>0.138702</td>\n",
       "      <td>0.928317</td>\n",
       "      <td>0.776371</td>\n",
       "      <td>0.282510</td>\n",
       "      <td>0.101672</td>\n",
       "      <td>-0.282645</td>\n",
       "      <td>-0.355789</td>\n",
       "      <td>-0.352705</td>\n",
       "      <td>-0.656951</td>\n",
       "      <td>...</td>\n",
       "      <td>0</td>\n",
       "      <td>0</td>\n",
       "      <td>0</td>\n",
       "      <td>1</td>\n",
       "      <td>0</td>\n",
       "      <td>0</td>\n",
       "      <td>0</td>\n",
       "      <td>0</td>\n",
       "      <td>1</td>\n",
       "      <td>0</td>\n",
       "    </tr>\n",
       "    <tr>\n",
       "      <th>3</th>\n",
       "      <td>-0.439705</td>\n",
       "      <td>-0.070512</td>\n",
       "      <td>-1.850006</td>\n",
       "      <td>-0.746235</td>\n",
       "      <td>-0.572748</td>\n",
       "      <td>-0.475034</td>\n",
       "      <td>-0.282645</td>\n",
       "      <td>-0.120264</td>\n",
       "      <td>-0.720866</td>\n",
       "      <td>-0.550734</td>\n",
       "      <td>...</td>\n",
       "      <td>0</td>\n",
       "      <td>0</td>\n",
       "      <td>0</td>\n",
       "      <td>1</td>\n",
       "      <td>1</td>\n",
       "      <td>0</td>\n",
       "      <td>0</td>\n",
       "      <td>0</td>\n",
       "      <td>0</td>\n",
       "      <td>0</td>\n",
       "    </tr>\n",
       "    <tr>\n",
       "      <th>4</th>\n",
       "      <td>0.549742</td>\n",
       "      <td>0.509132</td>\n",
       "      <td>0.896011</td>\n",
       "      <td>0.681208</td>\n",
       "      <td>1.275032</td>\n",
       "      <td>0.462647</td>\n",
       "      <td>-0.282645</td>\n",
       "      <td>-0.231360</td>\n",
       "      <td>0.152394</td>\n",
       "      <td>-0.074052</td>\n",
       "      <td>...</td>\n",
       "      <td>0</td>\n",
       "      <td>0</td>\n",
       "      <td>0</td>\n",
       "      <td>1</td>\n",
       "      <td>0</td>\n",
       "      <td>0</td>\n",
       "      <td>0</td>\n",
       "      <td>0</td>\n",
       "      <td>1</td>\n",
       "      <td>0</td>\n",
       "    </tr>\n",
       "    <tr>\n",
       "      <th>...</th>\n",
       "      <td>...</td>\n",
       "      <td>...</td>\n",
       "      <td>...</td>\n",
       "      <td>...</td>\n",
       "      <td>...</td>\n",
       "      <td>...</td>\n",
       "      <td>...</td>\n",
       "      <td>...</td>\n",
       "      <td>...</td>\n",
       "      <td>...</td>\n",
       "      <td>...</td>\n",
       "      <td>...</td>\n",
       "      <td>...</td>\n",
       "      <td>...</td>\n",
       "      <td>...</td>\n",
       "      <td>...</td>\n",
       "      <td>...</td>\n",
       "      <td>...</td>\n",
       "      <td>...</td>\n",
       "      <td>...</td>\n",
       "      <td>...</td>\n",
       "    </tr>\n",
       "    <tr>\n",
       "      <th>1116</th>\n",
       "      <td>-0.357251</td>\n",
       "      <td>-0.271480</td>\n",
       "      <td>0.863705</td>\n",
       "      <td>0.681208</td>\n",
       "      <td>-0.572748</td>\n",
       "      <td>-0.936399</td>\n",
       "      <td>-0.282645</td>\n",
       "      <td>0.797394</td>\n",
       "      <td>-0.278624</td>\n",
       "      <td>-0.571459</td>\n",
       "      <td>...</td>\n",
       "      <td>0</td>\n",
       "      <td>0</td>\n",
       "      <td>0</td>\n",
       "      <td>1</td>\n",
       "      <td>0</td>\n",
       "      <td>0</td>\n",
       "      <td>0</td>\n",
       "      <td>0</td>\n",
       "      <td>1</td>\n",
       "      <td>0</td>\n",
       "    </tr>\n",
       "    <tr>\n",
       "      <th>1117</th>\n",
       "      <td>0.590968</td>\n",
       "      <td>0.375605</td>\n",
       "      <td>0.185277</td>\n",
       "      <td>0.110231</td>\n",
       "      <td>0.055497</td>\n",
       "      <td>0.751000</td>\n",
       "      <td>0.750581</td>\n",
       "      <td>-0.011389</td>\n",
       "      <td>1.043612</td>\n",
       "      <td>2.330081</td>\n",
       "      <td>...</td>\n",
       "      <td>0</td>\n",
       "      <td>0</td>\n",
       "      <td>0</td>\n",
       "      <td>1</td>\n",
       "      <td>0</td>\n",
       "      <td>0</td>\n",
       "      <td>0</td>\n",
       "      <td>0</td>\n",
       "      <td>1</td>\n",
       "      <td>0</td>\n",
       "    </tr>\n",
       "    <tr>\n",
       "      <th>1118</th>\n",
       "      <td>-0.192343</td>\n",
       "      <td>-0.133030</td>\n",
       "      <td>-1.010048</td>\n",
       "      <td>0.966697</td>\n",
       "      <td>-0.572748</td>\n",
       "      <td>-0.349013</td>\n",
       "      <td>-0.282645</td>\n",
       "      <td>0.628527</td>\n",
       "      <td>0.168108</td>\n",
       "      <td>0.037346</td>\n",
       "      <td>...</td>\n",
       "      <td>0</td>\n",
       "      <td>0</td>\n",
       "      <td>0</td>\n",
       "      <td>1</td>\n",
       "      <td>0</td>\n",
       "      <td>0</td>\n",
       "      <td>0</td>\n",
       "      <td>0</td>\n",
       "      <td>1</td>\n",
       "      <td>0</td>\n",
       "    </tr>\n",
       "    <tr>\n",
       "      <th>1119</th>\n",
       "      <td>-0.109889</td>\n",
       "      <td>-0.049960</td>\n",
       "      <td>-0.719293</td>\n",
       "      <td>0.490883</td>\n",
       "      <td>-0.572748</td>\n",
       "      <td>-0.831738</td>\n",
       "      <td>6.239990</td>\n",
       "      <td>-1.320107</td>\n",
       "      <td>0.001987</td>\n",
       "      <td>-0.247626</td>\n",
       "      <td>...</td>\n",
       "      <td>0</td>\n",
       "      <td>0</td>\n",
       "      <td>0</td>\n",
       "      <td>1</td>\n",
       "      <td>0</td>\n",
       "      <td>0</td>\n",
       "      <td>0</td>\n",
       "      <td>0</td>\n",
       "      <td>1</td>\n",
       "      <td>0</td>\n",
       "    </tr>\n",
       "    <tr>\n",
       "      <th>1120</th>\n",
       "      <td>0.178699</td>\n",
       "      <td>-0.022885</td>\n",
       "      <td>-0.234702</td>\n",
       "      <td>-0.984142</td>\n",
       "      <td>-0.572748</td>\n",
       "      <td>0.836438</td>\n",
       "      <td>1.555610</td>\n",
       "      <td>-1.017924</td>\n",
       "      <td>0.401576</td>\n",
       "      <td>0.213511</td>\n",
       "      <td>...</td>\n",
       "      <td>0</td>\n",
       "      <td>0</td>\n",
       "      <td>0</td>\n",
       "      <td>1</td>\n",
       "      <td>0</td>\n",
       "      <td>0</td>\n",
       "      <td>0</td>\n",
       "      <td>0</td>\n",
       "      <td>1</td>\n",
       "      <td>0</td>\n",
       "    </tr>\n",
       "  </tbody>\n",
       "</table>\n",
       "<p>1121 rows × 335 columns</p>\n",
       "</div>"
      ],
      "text/plain": [
       "             0         1         2         3         4         5         6  \\\n",
       "0    -0.233570 -0.205885  0.992930  0.823953  0.462009  0.571581 -0.282645   \n",
       "1     0.384834 -0.064358  0.120665 -0.460746 -0.572748  1.152559 -0.282645   \n",
       "2    -0.109889  0.138702  0.928317  0.776371  0.282510  0.101672 -0.282645   \n",
       "3    -0.439705 -0.070512 -1.850006 -0.746235 -0.572748 -0.475034 -0.282645   \n",
       "4     0.549742  0.509132  0.896011  0.681208  1.275032  0.462647 -0.282645   \n",
       "...        ...       ...       ...       ...       ...       ...       ...   \n",
       "1116 -0.357251 -0.271480  0.863705  0.681208 -0.572748 -0.936399 -0.282645   \n",
       "1117  0.590968  0.375605  0.185277  0.110231  0.055497  0.751000  0.750581   \n",
       "1118 -0.192343 -0.133030 -1.010048  0.966697 -0.572748 -0.349013 -0.282645   \n",
       "1119 -0.109889 -0.049960 -0.719293  0.490883 -0.572748 -0.831738  6.239990   \n",
       "1120  0.178699 -0.022885 -0.234702 -0.984142 -0.572748  0.836438  1.555610   \n",
       "\n",
       "             7         8         9  ...  SaleType_ConLw  SaleType_New  \\\n",
       "0    -0.986817 -0.496377 -0.822753  ...               0             0   \n",
       "1    -0.689078  0.415045  0.229055  ...               0             0   \n",
       "2    -0.355789 -0.352705 -0.656951  ...               0             0   \n",
       "3    -0.120264 -0.720866 -0.550734  ...               0             0   \n",
       "4    -0.231360  0.152394 -0.074052  ...               0             0   \n",
       "...        ...       ...       ...  ...             ...           ...   \n",
       "1116  0.797394 -0.278624 -0.571459  ...               0             0   \n",
       "1117 -0.011389  1.043612  2.330081  ...               0             0   \n",
       "1118  0.628527  0.168108  0.037346  ...               0             0   \n",
       "1119 -1.320107  0.001987 -0.247626  ...               0             0   \n",
       "1120 -1.017924  0.401576  0.213511  ...               0             0   \n",
       "\n",
       "      SaleType_Oth  SaleType_WD  SaleCondition_Abnorml  SaleCondition_AdjLand  \\\n",
       "0                0            1                      0                      0   \n",
       "1                0            1                      0                      0   \n",
       "2                0            1                      0                      0   \n",
       "3                0            1                      1                      0   \n",
       "4                0            1                      0                      0   \n",
       "...            ...          ...                    ...                    ...   \n",
       "1116             0            1                      0                      0   \n",
       "1117             0            1                      0                      0   \n",
       "1118             0            1                      0                      0   \n",
       "1119             0            1                      0                      0   \n",
       "1120             0            1                      0                      0   \n",
       "\n",
       "      SaleCondition_Alloca  SaleCondition_Family  SaleCondition_Normal  \\\n",
       "0                        0                     0                     1   \n",
       "1                        0                     0                     1   \n",
       "2                        0                     0                     1   \n",
       "3                        0                     0                     0   \n",
       "4                        0                     0                     1   \n",
       "...                    ...                   ...                   ...   \n",
       "1116                     0                     0                     1   \n",
       "1117                     0                     0                     1   \n",
       "1118                     0                     0                     1   \n",
       "1119                     0                     0                     1   \n",
       "1120                     0                     0                     1   \n",
       "\n",
       "      SaleCondition_Partial  \n",
       "0                         0  \n",
       "1                         0  \n",
       "2                         0  \n",
       "3                         0  \n",
       "4                         0  \n",
       "...                     ...  \n",
       "1116                      0  \n",
       "1117                      0  \n",
       "1118                      0  \n",
       "1119                      0  \n",
       "1120                      0  \n",
       "\n",
       "[1121 rows x 335 columns]"
      ]
     },
     "execution_count": 3,
     "metadata": {},
     "output_type": "execute_result"
    }
   ],
   "source": [
    "X"
   ]
  },
  {
   "cell_type": "markdown",
   "metadata": {},
   "source": [
    "Анализ выбросов. производится с помшью SVM с кернел-триком. "
   ]
  },
  {
   "cell_type": "code",
   "execution_count": 13,
   "metadata": {
    "scrolled": true
   },
   "outputs": [
    {
     "data": {
      "text/plain": [
       "Counter({1: 1011, -1: 110})"
      ]
     },
     "execution_count": 13,
     "metadata": {},
     "output_type": "execute_result"
    }
   ],
   "source": [
    "from sklearn import svm\n",
    "outliers_fraction = 0.1\n",
    "sv = svm.OneClassSVM(nu=outliers_fraction, kernel=\"rbf\", gamma=0.01).fit(X)\n",
    "sv_marks = sv.fit_predict(X, y=None)\n",
    "from collections import Counter\n",
    "Counter(sv_marks)"
   ]
  },
  {
   "cell_type": "code",
   "execution_count": 14,
   "metadata": {},
   "outputs": [],
   "source": [
    "X = X[sv_marks != -1].reset_index(drop = True)\n",
    "y = y[sv_marks != -1].reset_index(drop = True)"
   ]
  },
  {
   "cell_type": "markdown",
   "metadata": {},
   "source": [
    "Функция возвращающая среднее значение score для крос валидации с 10 фолдами."
   ]
  },
  {
   "cell_type": "code",
   "execution_count": 15,
   "metadata": {},
   "outputs": [],
   "source": [
    "from sklearn.model_selection import KFold"
   ]
  },
  {
   "cell_type": "code",
   "execution_count": 16,
   "metadata": {},
   "outputs": [],
   "source": [
    "def get_cv_score(X, y, model):\n",
    "    score_set = []\n",
    "    kf = KFold(n_splits=10)\n",
    "    for train_index, test_index in kf.split(X):\n",
    "        X_train, X_test = X.iloc[train_index], X.iloc[test_index]\n",
    "        y_train, y_test = y.iloc[train_index], y.iloc[test_index]\n",
    "        model.fit(X_train, y_train)\n",
    "        score_set.append(model.score(X_test, y_test))\n",
    "    return np.mean(score_set)"
   ]
  },
  {
   "cell_type": "markdown",
   "metadata": {},
   "source": [
    "Делим данные на обучающую выбоку и тестовую hold-out"
   ]
  },
  {
   "cell_type": "code",
   "execution_count": 17,
   "metadata": {},
   "outputs": [],
   "source": [
    "from sklearn.model_selection import train_test_split\n",
    "X_train, X_test, y_train, y_test = train_test_split(X, y, test_size=0.3)"
   ]
  },
  {
   "cell_type": "markdown",
   "metadata": {},
   "source": [
    "Рассмотрим 3 модели. 1 случайный лес"
   ]
  },
  {
   "cell_type": "code",
   "execution_count": 18,
   "metadata": {},
   "outputs": [
    {
     "data": {
      "text/plain": [
       "0.7977374512650469"
      ]
     },
     "execution_count": 18,
     "metadata": {},
     "output_type": "execute_result"
    }
   ],
   "source": [
    "from sklearn.ensemble import RandomForestRegressor\n",
    "clf_rf = RandomForestRegressor(n_estimators=10, max_depth=5, min_samples_leaf=20, max_features=0.5, n_jobs=-1)\n",
    "get_cv_score(X_train, y_train, clf_rf)"
   ]
  },
  {
   "cell_type": "markdown",
   "metadata": {},
   "source": [
    "Удалось улучшить эту метрику с помощью отлова выбросов OneClassSVM."
   ]
  },
  {
   "cell_type": "markdown",
   "metadata": {},
   "source": [
    "2 линейная регрессия дает плохой результат"
   ]
  },
  {
   "cell_type": "code",
   "execution_count": 19,
   "metadata": {
    "scrolled": true
   },
   "outputs": [
    {
     "data": {
      "text/plain": [
       "-3.8454621124137386e+20"
      ]
     },
     "execution_count": 19,
     "metadata": {},
     "output_type": "execute_result"
    }
   ],
   "source": [
    "from sklearn.linear_model import LinearRegression\n",
    "lr = LinearRegression()\n",
    "get_cv_score(X_train, y_train, lr)"
   ]
  },
  {
   "cell_type": "markdown",
   "metadata": {},
   "source": [
    "3 LinearSVR дает плохой результат. Линейные модели не справляются с описанием данных."
   ]
  },
  {
   "cell_type": "code",
   "execution_count": 20,
   "metadata": {
    "scrolled": true
   },
   "outputs": [
    {
     "data": {
      "text/plain": [
       "-5.045538183657015"
      ]
     },
     "execution_count": 20,
     "metadata": {},
     "output_type": "execute_result"
    }
   ],
   "source": [
    "from sklearn.svm import LinearSVR\n",
    "svr = LinearSVR(random_state=42)\n",
    "get_cv_score(X_train, y_train, svr)"
   ]
  },
  {
   "cell_type": "markdown",
   "metadata": {},
   "source": [
    "Делаем стекинг из рассмотренных выше моделей. В качестве мета-модели была выбрана линейная регрессия."
   ]
  },
  {
   "cell_type": "code",
   "execution_count": 21,
   "metadata": {},
   "outputs": [],
   "source": [
    "from sklearn.ensemble import StackingRegressor\n",
    "regressor = StackingRegressor(\n",
    "    [\n",
    "        ('lr', LinearRegression()),\n",
    "        ('svr', LinearSVR(random_state=42)),\n",
    "        ('dt', RandomForestRegressor(n_estimators=10, max_depth=5, min_samples_leaf=20, max_features=0.5, n_jobs=-1))\n",
    "    ],\n",
    "LinearRegression())"
   ]
  },
  {
   "cell_type": "code",
   "execution_count": 22,
   "metadata": {
    "scrolled": false
   },
   "outputs": [
    {
     "data": {
      "text/plain": [
       "StackingRegressor(estimators=[('lr', LinearRegression()),\n",
       "                              ('svr', LinearSVR(random_state=42)),\n",
       "                              ('dt',\n",
       "                               RandomForestRegressor(max_depth=5,\n",
       "                                                     max_features=0.5,\n",
       "                                                     min_samples_leaf=20,\n",
       "                                                     n_estimators=10,\n",
       "                                                     n_jobs=-1))],\n",
       "                  final_estimator=LinearRegression())"
      ]
     },
     "execution_count": 22,
     "metadata": {},
     "output_type": "execute_result"
    }
   ],
   "source": [
    "regressor.fit(X_train, y_train)"
   ]
  },
  {
   "cell_type": "code",
   "execution_count": 23,
   "metadata": {},
   "outputs": [
    {
     "data": {
      "text/plain": [
       "0.7964480182676705"
      ]
     },
     "execution_count": 23,
     "metadata": {},
     "output_type": "execute_result"
    }
   ],
   "source": [
    "regressor.score(X_test, y_test)"
   ]
  },
  {
   "cell_type": "markdown",
   "metadata": {},
   "source": [
    "Результат не получилось улучшить. Очевидно, использование линейных моделей нецелесообразно. Возможно следует применить логарифмирование данных."
   ]
  }
 ],
 "metadata": {
  "kernelspec": {
   "display_name": "Python 3",
   "language": "python",
   "name": "python3"
  },
  "language_info": {
   "codemirror_mode": {
    "name": "ipython",
    "version": 3
   },
   "file_extension": ".py",
   "mimetype": "text/x-python",
   "name": "python",
   "nbconvert_exporter": "python",
   "pygments_lexer": "ipython3",
   "version": "3.7.2"
  }
 },
 "nbformat": 4,
 "nbformat_minor": 2
}
