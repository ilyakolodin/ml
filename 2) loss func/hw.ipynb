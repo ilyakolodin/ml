{
 "cells": [
  {
   "cell_type": "markdown",
   "metadata": {},
   "source": [
    "Реализовать самостоятельно логистическую регрессию\n",
    "\n",
    "Обучить ее методом градиентного спуска\n",
    "\n",
    "Методом nesterov momentum\n",
    "\n",
    "Методом rmsprop\n",
    "\n",
    "В качестве dataset’а взять Iris, оставив 2 класса:\n",
    "\n",
    "Iris Versicolor\n",
    "\n",
    "Iris Virginica"
   ]
  },
  {
   "cell_type": "code",
   "execution_count": 1,
   "metadata": {},
   "outputs": [],
   "source": [
    "from sklearn import datasets\n",
    "import numpy as np"
   ]
  },
  {
   "cell_type": "code",
   "execution_count": 2,
   "metadata": {},
   "outputs": [],
   "source": [
    "iris = datasets.load_iris()"
   ]
  },
  {
   "cell_type": "code",
   "execution_count": 3,
   "metadata": {},
   "outputs": [
    {
     "data": {
      "text/plain": [
       "array([[7. , 3.2, 4.7, 1.4, 1. ],\n",
       "       [6.4, 3.2, 4.5, 1.5, 1. ],\n",
       "       [6.9, 3.1, 4.9, 1.5, 1. ],\n",
       "       [5.5, 2.3, 4. , 1.3, 1. ],\n",
       "       [6.5, 2.8, 4.6, 1.5, 1. ]])"
      ]
     },
     "execution_count": 3,
     "metadata": {},
     "output_type": "execute_result"
    }
   ],
   "source": [
    "X = iris.data[50:]\n",
    "X = np.array([np.append(x, 1) for x in X])\n",
    "X[:5]"
   ]
  },
  {
   "cell_type": "code",
   "execution_count": 4,
   "metadata": {},
   "outputs": [
    {
     "data": {
      "text/plain": [
       "[0, 0, 0, 0, 0]"
      ]
     },
     "execution_count": 4,
     "metadata": {},
     "output_type": "execute_result"
    }
   ],
   "source": [
    "Y = iris.target[50:]\n",
    "Y = [0 if x==1 else 1 for x in Y ]\n",
    "Y[:5]"
   ]
  },
  {
   "cell_type": "code",
   "execution_count": 5,
   "metadata": {},
   "outputs": [],
   "source": [
    "def sigmoid(x): \n",
    "    return 1 / (1 + np.exp(-x))"
   ]
  },
  {
   "cell_type": "code",
   "execution_count": 6,
   "metadata": {},
   "outputs": [],
   "source": [
    "def model(w, x):\n",
    "    y = sigmoid(np.dot(w,x))\n",
    "    if y>0.5:\n",
    "        return 1\n",
    "    else:\n",
    "        return 0"
   ]
  },
  {
   "cell_type": "code",
   "execution_count": 7,
   "metadata": {
    "scrolled": true
   },
   "outputs": [],
   "source": [
    "def der_w(X, Y, w):\n",
    "    total_cost = [0,0,0,0,0]\n",
    "    for i in range(len(X)):\n",
    "        for j in range(len(w)):\n",
    "            total_cost[j] += (model(w,X[i])-Y[i])*X[i][j] \n",
    "    return total_cost"
   ]
  },
  {
   "cell_type": "code",
   "execution_count": 8,
   "metadata": {},
   "outputs": [],
   "source": [
    "def score_f(w, X, Y):\n",
    "    prediction = [model(w,x) for x in X]\n",
    "    k=0\n",
    "    for i in range(100):\n",
    "        if Y[i] == prediction[i]:\n",
    "            k+= 1\n",
    "    score = k/100\n",
    "    return score"
   ]
  },
  {
   "cell_type": "code",
   "execution_count": 9,
   "metadata": {
    "scrolled": true
   },
   "outputs": [
    {
     "data": {
      "text/plain": [
       "array([-0.39623, -0.10012,  0.23683,  0.61942,  0.5996 ])"
      ]
     },
     "execution_count": 9,
     "metadata": {},
     "output_type": "execute_result"
    }
   ],
   "source": [
    "def grad_(X, Y):\n",
    "    EPOCHS = 1000\n",
    "    LEARNING_RATE = 0.0001\n",
    "    w = np.array([1,1,1,1,1])\n",
    "    for _ in range(EPOCHS):\n",
    "        dt = np.array(der_w(X, Y, w))\n",
    "        w = w - LEARNING_RATE * dt      \n",
    "    return w\n",
    "\n",
    "w = grad_(X, Y)\n",
    "w"
   ]
  },
  {
   "cell_type": "code",
   "execution_count": 10,
   "metadata": {},
   "outputs": [
    {
     "data": {
      "text/plain": [
       "0.91"
      ]
     },
     "execution_count": 10,
     "metadata": {},
     "output_type": "execute_result"
    }
   ],
   "source": [
    "score_f(w, X, Y)"
   ]
  },
  {
   "cell_type": "code",
   "execution_count": 12,
   "metadata": {},
   "outputs": [
    {
     "data": {
      "text/plain": [
       "array([-0.31429391, -0.30198651,  0.47095022,  0.44166204, -0.24890973])"
      ]
     },
     "execution_count": 12,
     "metadata": {},
     "output_type": "execute_result"
    }
   ],
   "source": [
    "#Nesterov Accelerated Gradient\n",
    "\n",
    "def grad_nest(X, Y):\n",
    "    EPOCHS = 1000\n",
    "    LEARNING_RATE = 0.0001\n",
    "    gamma = 0.9\n",
    "    v0 = 0.1\n",
    "    w = np.array([1,1,1,1,1])\n",
    "    for _ in range(EPOCHS):\n",
    "        \n",
    "        dt = np.array(der_w(X, Y, w))\n",
    "        dv = gamma*v0 + LEARNING_RATE*dt \n",
    "        w = w - dv\n",
    "        v0 = dv\n",
    "        \n",
    "    return w\n",
    "\n",
    "w = grad_nest(X, Y)\n",
    "w"
   ]
  },
  {
   "cell_type": "code",
   "execution_count": 13,
   "metadata": {},
   "outputs": [
    {
     "data": {
      "text/plain": [
       "0.98"
      ]
     },
     "execution_count": 13,
     "metadata": {},
     "output_type": "execute_result"
    }
   ],
   "source": [
    "score_f(w, X, Y)"
   ]
  },
  {
   "cell_type": "code",
   "execution_count": 14,
   "metadata": {},
   "outputs": [
    {
     "data": {
      "text/plain": [
       "array([-0.31429391, -0.30198651,  0.47095022,  0.44166204, -0.24890973])"
      ]
     },
     "execution_count": 14,
     "metadata": {},
     "output_type": "execute_result"
    }
   ],
   "source": [
    "def grad_RMSProp(X, Y):\n",
    "    EPOCHS = 1000\n",
    "    LEARNING_RATE = 0.0001\n",
    "    gamma = 0.9\n",
    "    eg20 = 0\n",
    "    eps = 10**(-6)\n",
    "    w = np.array([1,1,1,1,1])\n",
    "    for _ in range(EPOCHS):\n",
    "        \n",
    "        dt = np.array(der_w(X, Y, w))\n",
    "        eg2 = gamma*eg20+(1-gamma)*dt**2\n",
    "        w = w -  LEARNING_RATE*(1/(np.sqrt(eg2+eps)))*dt \n",
    "        eg20 = eg2\n",
    "        \n",
    "    return w\n",
    "\n",
    "w = grad_nest(X, Y)\n",
    "w"
   ]
  },
  {
   "cell_type": "code",
   "execution_count": 15,
   "metadata": {},
   "outputs": [
    {
     "data": {
      "text/plain": [
       "0.98"
      ]
     },
     "execution_count": 15,
     "metadata": {},
     "output_type": "execute_result"
    }
   ],
   "source": [
    "score_f(w, X, Y)"
   ]
  }
 ],
 "metadata": {
  "kernelspec": {
   "display_name": "Python 3",
   "language": "python",
   "name": "python3"
  },
  "language_info": {
   "codemirror_mode": {
    "name": "ipython",
    "version": 3
   },
   "file_extension": ".py",
   "mimetype": "text/x-python",
   "name": "python",
   "nbconvert_exporter": "python",
   "pygments_lexer": "ipython3",
   "version": "3.7.2"
  }
 },
 "nbformat": 4,
 "nbformat_minor": 2
}
